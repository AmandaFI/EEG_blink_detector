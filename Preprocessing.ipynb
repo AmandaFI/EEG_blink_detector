{
 "cells": [
  {
   "cell_type": "code",
   "execution_count": 1,
   "metadata": {},
   "outputs": [],
   "source": [
    "from preprocessing import *\n",
    "import os, pickle, csv, copy\n",
    "import tqdm\n",
    "from pathlib import Path\n",
    "\n",
    "import numpy as np\n",
    "import matplotlib.pyplot as plt\n",
    "from sklearn.utils import resample\n",
    "from sklearn.preprocessing import MinMaxScaler\n",
    "from sklearn.preprocessing import Normalizer\n",
    "import ipywidgets as widgets\n",
    "from ipywidgets import interact, interactive, fixed, interact_manual\n",
    "\n",
    "import tensorflow as tf\n",
    "from tensorflow.keras.callbacks import EarlyStopping\n",
    "from keras_tqdm import TQDMNotebookCallback\n",
    "from tensorflow import keras\n",
    "from tensorflow.keras import layers\n",
    "from kerastuner.tuners import RandomSearch\n",
    "import tensorflow_addons as tfa\n",
    "from sklearn.model_selection import train_test_split\n",
    "from sklearn.utils import shuffle"
   ]
  },
  {
   "cell_type": "code",
   "execution_count": null,
   "metadata": {},
   "outputs": [],
   "source": [
    "data_Folder = Path('data')  \n",
    "\n",
    "data_folderIO = data_Folder / \"EEG-IO\"\n",
    "data_folderVR = data_Folder / \"EEG-VR\"\n",
    "data_folderVV = data_Folder / \"EEG-VV\"\n",
    "\n",
    "freq = 250                     \n",
    "parsedData = 200 * freq  \n",
    "delta = 125\n",
    "tam = 250  "
   ]
  },
  {
   "cell_type": "markdown",
   "metadata": {},
   "source": [
    "## IO ##"
   ]
  },
  {
   "cell_type": "code",
   "execution_count": 19,
   "metadata": {},
   "outputs": [],
   "source": [
    "list_of_filesIO, list_of_files_labelsIO = listFiles(data_folderIO)\n",
    "\n",
    "rawDadosIO = read_data(data_Folder, data_folderIO, list_of_filesIO, freq, parsedData)\n",
    "\n",
    "blinksIO, corruptIO = read_labels(data_folderIO, list_of_files_labelsIO)\n",
    "\n",
    "rawDadosIO = truncateTime(rawDadosIO)\n",
    "\n",
    "dataIO = movingAverage(rawDadosIO)\n",
    "\n",
    "newDataIO = removeCorrupt(dataIO, corruptIO)\n",
    "\n",
    "datasetBlinkIO, indexesIO = datasetBlink(delta, newDataIO, blinksIO)\n",
    "\n",
    "noBlinkIO = removeBlink(newDataIO, indexesIO)\n",
    "\n",
    "datasetNoBlinkIO = datasetNoBlink(noBlinkIO, tam)"
   ]
  },
  {
   "cell_type": "code",
   "execution_count": 20,
   "metadata": {},
   "outputs": [
    {
     "data": {
      "text/plain": [
       "((5788, 250), (5788,), (1114, 250), (2894, 250), (2894, 250))"
      ]
     },
     "execution_count": 20,
     "metadata": {},
     "output_type": "execute_result"
    }
   ],
   "source": [
    "datasetBlinkIOUP = resample(datasetBlinkIO, replace=True, n_samples=len(datasetNoBlinkIO)  ,random_state=123)\n",
    "\n",
    "X_data_IO = np.vstack((datasetBlinkIOUP, datasetNoBlinkIO))\n",
    "y_data_IO = np.zeros((X_data_IO.shape[0]))\n",
    "y_data_IO[:datasetBlinkIOUP.shape[0]] = 1\n",
    "\n",
    "X_data_IO.shape, y_data_IO.shape, datasetBlinkIO.shape, datasetNoBlinkIO.shape, datasetBlinkIOUP.shape"
   ]
  },
  {
   "cell_type": "code",
   "execution_count": 17,
   "metadata": {},
   "outputs": [],
   "source": [
    "scaler = MinMaxScaler()\n",
    "scaler.fit(X_data_IO)\n",
    "X_data_IO = scaler.transform(X_data_IO)"
   ]
  },
  {
   "cell_type": "code",
   "execution_count": 21,
   "metadata": {},
   "outputs": [],
   "source": [
    "X_data_IO, y_data_IO = shuffle(X_data_IO, y_data_IO)\n",
    "X_train_IO, X_test_IO, y_train_IO, y_test_IO = train_test_split(X_data_IO, y_data_IO, test_size=0.33, random_state=42)\n",
    "\n",
    "IO = [X_train_IO, X_test_IO, y_train_IO, y_test_IO]\n",
    "\n",
    "#filename = 'trainTestIO'\n",
    "filename = 'trainTestIO_noscale'\n",
    "file = open(filename, 'wb')\n",
    "pickle.dump(IO, file)\n",
    "file.close()"
   ]
  },
  {
   "cell_type": "markdown",
   "metadata": {},
   "source": [
    "## VR ##"
   ]
  },
  {
   "cell_type": "code",
   "execution_count": 22,
   "metadata": {},
   "outputs": [],
   "source": [
    "list_of_filesVR, list_of_files_labelsVR = listFiles(data_folderVR)\n",
    "\n",
    "rawDadosVR = read_data(data_Folder, data_folderVR, list_of_filesVR, freq, parsedData)\n",
    "\n",
    "blinksVR, corruptVR = read_labels(data_folderVR, list_of_files_labelsVR)\n",
    "\n",
    "rawDadosVR = truncateTime(rawDadosVR)\n",
    "\n",
    "removeSlot1 = list(range(20224,20342))\n",
    "rawDadosVR[7] = np.delete(rawDadosVR[7], removeSlot1, axis=0)\n",
    "\n",
    "dataVR = movingAverage(rawDadosVR)\n",
    "\n",
    "newDataVR = removeCorrupt(dataVR, corruptVR)\n",
    "\n",
    "datasetBlinkVR, indexesVR = datasetBlink(delta, newDataVR, blinksVR)\n",
    "\n",
    "noBlinkVR = removeBlink(newDataVR, indexesVR)\n",
    "\n",
    "datasetNoBlinkVR = datasetNoBlink(noBlinkVR, tam)"
   ]
  },
  {
   "cell_type": "code",
   "execution_count": 23,
   "metadata": {},
   "outputs": [
    {
     "data": {
      "text/plain": [
       "((7132, 250), (7132,), (1342, 250), (3566, 250), (3566, 250))"
      ]
     },
     "execution_count": 23,
     "metadata": {},
     "output_type": "execute_result"
    }
   ],
   "source": [
    "datasetBlinkVRUP = resample(datasetBlinkVR, replace=True, n_samples=len(datasetNoBlinkVR)  ,random_state=123)\n",
    "\n",
    "X_data_VR = np.vstack((datasetBlinkVRUP, datasetNoBlinkVR))\n",
    "y_data_VR = np.zeros((X_data_VR.shape[0]))\n",
    "y_data_VR[:datasetBlinkVRUP.shape[0]] = 1\n",
    "\n",
    "X_data_VR.shape, y_data_VR.shape, datasetBlinkVR.shape, datasetNoBlinkVR.shape, datasetBlinkVRUP.shape"
   ]
  },
  {
   "cell_type": "code",
   "execution_count": 24,
   "metadata": {},
   "outputs": [],
   "source": [
    "scaler = MinMaxScaler()\n",
    "scaler.fit(X_data_VR)\n",
    "X_data_VR = scaler.transform(X_data_VR)"
   ]
  },
  {
   "cell_type": "code",
   "execution_count": 25,
   "metadata": {},
   "outputs": [],
   "source": [
    "X_data_VR, y_data_VR = shuffle(X_data_VR, y_data_VR)\n",
    "X_train_VR, X_test_VR, y_train_VR, y_test_VR = train_test_split(X_data_VR, y_data_VR, test_size=0.33, random_state=42)\n",
    "\n",
    "VR = [X_train_VR, X_test_VR, y_train_VR, y_test_VR]\n",
    "\n",
    "filename = 'trainTestVR'\n",
    "file = open(filename, 'wb')\n",
    "pickle.dump(VR, file)\n",
    "file.close()"
   ]
  },
  {
   "cell_type": "markdown",
   "metadata": {},
   "source": [
    "## VV ##"
   ]
  },
  {
   "cell_type": "code",
   "execution_count": 26,
   "metadata": {},
   "outputs": [],
   "source": [
    "list_of_filesVV, list_of_files_labelsVV = listFiles(data_folderVV)\n",
    "\n",
    "rawDadosVV = read_data(data_Folder, data_folderVV, list_of_filesVV, freq, parsedData)\n",
    "\n",
    "blinksVV, corruptVV = read_labels(data_folderVV, list_of_files_labelsVV)\n",
    "\n",
    "rawDadosVV = truncateTime(rawDadosVV)\n",
    "\n",
    "dataVV = movingAverage(rawDadosVV)\n",
    "\n",
    "newDataVV = removeCorrupt(dataVV, corruptVV)\n",
    "\n",
    "datasetBlinkVV, indexesVV = datasetBlink(delta, newDataVV, blinksVV)\n",
    "\n",
    "noBlinkVV = removeBlink(newDataVV, indexesVV)\n",
    "\n",
    "datasetNoBlinkVV = datasetNoBlink(noBlinkVV, tam)"
   ]
  },
  {
   "cell_type": "code",
   "execution_count": 27,
   "metadata": {},
   "outputs": [
    {
     "data": {
      "text/plain": [
       "((7076, 250), (7076,), (1588, 250), (3538, 250), (3538, 250))"
      ]
     },
     "execution_count": 27,
     "metadata": {},
     "output_type": "execute_result"
    }
   ],
   "source": [
    "datasetBlinkVVUP = resample(datasetBlinkVV, replace=True, n_samples=len(datasetNoBlinkVV)  ,random_state=123)\n",
    "\n",
    "X_data_VV = np.vstack((datasetBlinkVVUP, datasetNoBlinkVV))\n",
    "y_data_VV = np.zeros((X_data_VV.shape[0]))\n",
    "y_data_VV[:datasetBlinkVVUP.shape[0]] = 1\n",
    "\n",
    "X_data_VV.shape, y_data_VV.shape, datasetBlinkVV.shape, datasetNoBlinkVV.shape, datasetBlinkVVUP.shape"
   ]
  },
  {
   "cell_type": "code",
   "execution_count": 28,
   "metadata": {},
   "outputs": [],
   "source": [
    "scaler = MinMaxScaler()\n",
    "scaler.fit(X_data_VV)\n",
    "X_data_VV = scaler.transform(X_data_VV)"
   ]
  },
  {
   "cell_type": "code",
   "execution_count": 29,
   "metadata": {},
   "outputs": [],
   "source": [
    "X_data_VV, y_data_VV = shuffle(X_data_VV, y_data_VV)\n",
    "X_train_VV, X_test_VV, y_train_VV, y_test_VV = train_test_split(X_data_VV, y_data_VV, test_size=0.33, random_state=42)\n",
    "\n",
    "VV = [X_train_VV, X_test_VV, y_train_VV, y_test_VV]\n",
    "\n",
    "filename = 'trainTestVV'\n",
    "file = open(filename, 'wb')\n",
    "pickle.dump(VV, file)\n",
    "file.close()"
   ]
  },
  {
   "cell_type": "markdown",
   "metadata": {},
   "source": [
    "## Load Pickle ##"
   ]
  },
  {
   "cell_type": "code",
   "execution_count": 3,
   "metadata": {},
   "outputs": [],
   "source": [
    "file = open('trainTestIO_noscale', 'rb')\n",
    "X_train_IO_noscale, X_test_IO_noscale, y_train_IO_noscale, y_test_IO_noscale = pickle.load(file)\n",
    "file.close()\n",
    "\n",
    "file = open('trainTestIO', 'rb')\n",
    "X_train_IO, X_test_IO, y_train_IO, y_test_IO = pickle.load(file)\n",
    "file.close()\n",
    "\n",
    "file = open('trainTestVR', 'rb')\n",
    "X_train_VR, X_test_VR, y_train_VR, y_test_VR = pickle.load(file)\n",
    "file.close()\n",
    "\n",
    "file = open('trainTestVV', 'rb')\n",
    "X_train_VV, X_test_VV, y_train_VV, y_test_VV = pickle.load(file)\n",
    "file.close()"
   ]
  },
  {
   "cell_type": "code",
   "execution_count": 4,
   "metadata": {},
   "outputs": [
    {
     "data": {
      "text/plain": [
       "(956.0, 1911, 1140.0, 2336, 1153.0, 2354)"
      ]
     },
     "execution_count": 4,
     "metadata": {},
     "output_type": "execute_result"
    }
   ],
   "source": [
    "np.sum(y_test_IO), y_test_IO.shape[0], np.sum(y_test_VV), y_test_VV.shape[0], np.sum(y_test_VR), y_test_VR.shape[0]"
   ]
  },
  {
   "cell_type": "code",
   "execution_count": 5,
   "metadata": {},
   "outputs": [
    {
     "name": "stdout",
     "output_type": "stream",
     "text": [
      "IO 0.500261643118786 0.49973835688121404\n",
      "VR 0.4898045879354291 0.5101954120645709\n",
      "VV 0.488013698630137 0.511986301369863\n"
     ]
    }
   ],
   "source": [
    "print('IO',np.sum(y_test_IO)/ y_test_IO.shape[0], 1-(np.sum(y_test_IO)/ y_test_IO.shape[0]))\n",
    "print('VR',np.sum(y_test_VR)/ y_test_VR.shape[0], 1-(np.sum(y_test_VR)/ y_test_VR.shape[0]))\n",
    "print('VV',np.sum(y_test_VV)/ y_test_VV.shape[0], 1-(np.sum(y_test_VV)/ y_test_VV.shape[0]))"
   ]
  },
  {
   "cell_type": "markdown",
   "metadata": {},
   "source": [
    "### Ipywidgets display ###"
   ]
  },
  {
   "cell_type": "code",
   "execution_count": 6,
   "metadata": {},
   "outputs": [],
   "source": [
    "def sort(labels):\n",
    "    \"\"\"Sort the indexes of the array passed as parameter in two lists according to the values of the elements corresponding to the index\n",
    "    \n",
    "    Parameters\n",
    "    ----------\n",
    "    labels : numpy.array\n",
    "        Array of values 1 or 0\n",
    "        \n",
    "    Returns\n",
    "    -------\n",
    "    one : list\n",
    "        Array of indexes corresponding to the elements equals to 1 in the array passed as parameter \n",
    "    zero : list \n",
    "        Array of indexes corresponding to the elements equals to 0 in the array passed as parameter \n",
    "    \"\"\"\n",
    "    one = []\n",
    "    zero = []\n",
    "    for i in range(len(labels)):\n",
    "        if labels[i] == 1:\n",
    "            one.append(i)\n",
    "        else:\n",
    "            zero.append(i)\n",
    "            \n",
    "    return one, zero"
   ]
  },
  {
   "cell_type": "code",
   "execution_count": 7,
   "metadata": {},
   "outputs": [],
   "source": [
    "X_testBlink_IO, X_testNo_IO = sort(y_test_IO)\n",
    "X_testBlink_VR, X_testNo_VR = sort(y_test_VR)\n",
    "X_testBlink_VV, X_testNo_VV = sort(y_test_VV)"
   ]
  },
  {
   "cell_type": "code",
   "execution_count": 8,
   "metadata": {},
   "outputs": [
    {
     "data": {
      "application/vnd.jupyter.widget-view+json": {
       "model_id": "57cd58b77b7e4900b7d3295de47ad581",
       "version_major": 2,
       "version_minor": 0
      },
      "text/plain": [
       "HBox(children=(Dropdown(description='Conjunto:', options=('-', 'IO', 'VR', 'VV'), value='-'), Dropdown(descrip…"
      ]
     },
     "metadata": {},
     "output_type": "display_data"
    },
    {
     "data": {
      "application/vnd.jupyter.widget-view+json": {
       "model_id": "e40c4a4cde754104839e98c034f84a1d",
       "version_major": 2,
       "version_minor": 0
      },
      "text/plain": [
       "Output()"
      ]
     },
     "metadata": {},
     "output_type": "display_data"
    }
   ],
   "source": [
    "def do_stuff(a, b):\n",
    "    if a == 'IO':\n",
    "        plt.plot(X_test_IO[b])\n",
    "        plt.title(y_test_IO[b])        \n",
    "    if a == 'VR':\n",
    "        plt.plot(X_test_VR[b])\n",
    "        plt.title(y_test_VR[b])\n",
    "    if a == 'VV':\n",
    "        plt.plot(X_test_VV[b])\n",
    "        plt.title(y_test_VV[b])\n",
    "    return \n",
    "\n",
    "def ajuste(*args):\n",
    "    if data.value == 'IO' and blink.value == 'Blink':\n",
    "        number.options = X_testBlink_IO\n",
    "    elif data.value == 'VR' and blink.value == 'Blink':\n",
    "        number.options = X_testBlink_VR\n",
    "    elif data.value == 'VV' and blink.value == 'Blink':\n",
    "        number.options = X_testBlink_VV\n",
    "    elif data.value == 'IO' and blink.value == 'No Blink':\n",
    "        number.options = X_testNo_IO\n",
    "    elif data.value == 'VR' and blink.value == 'No Blink':\n",
    "        number.options = X_testNo_VR\n",
    "    elif data.value == 'VV' and blink.value == 'No Blink':\n",
    "        number.options = X_testNo_VV\n",
    "    else:\n",
    "        number.options = []\n",
    "        \n",
    "        \n",
    "data = widgets.Dropdown(\n",
    "    options=['-', 'IO', 'VR', 'VV'],\n",
    "    description='Conjunto:',\n",
    "    disabled=False,\n",
    ")\n",
    "\n",
    "blink = widgets.Dropdown(\n",
    "    options=['Blink', 'No Blink'],\n",
    "    description='Estado:',\n",
    "    disabled=False,\n",
    ")\n",
    "\n",
    "number = widgets.Dropdown(\n",
    "    options=[' - '],\n",
    "    description='Indice:',\n",
    "    disabled=False,\n",
    ")        \n",
    "\n",
    "        \n",
    "data.observe(ajuste, 'value')\n",
    "blink.observe(ajuste, 'value')\n",
    "\n",
    "controls = widgets.HBox([data, blink, number])\n",
    "graphic = widgets.interactive_output(do_stuff, {'a': data, 'b': number})\n",
    "display(controls, graphic)"
   ]
  },
  {
   "cell_type": "code",
   "execution_count": null,
   "metadata": {},
   "outputs": [],
   "source": []
  }
 ],
 "metadata": {
  "kernelspec": {
   "display_name": "Python 3",
   "language": "python",
   "name": "python3"
  },
  "language_info": {
   "codemirror_mode": {
    "name": "ipython",
    "version": 3
   },
   "file_extension": ".py",
   "mimetype": "text/x-python",
   "name": "python",
   "nbconvert_exporter": "python",
   "pygments_lexer": "ipython3",
   "version": "3.8.5"
  }
 },
 "nbformat": 4,
 "nbformat_minor": 4
}

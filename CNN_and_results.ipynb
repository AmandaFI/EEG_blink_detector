{
 "cells": [
  {
   "cell_type": "code",
   "execution_count": 1,
   "metadata": {},
   "outputs": [],
   "source": [
    "import os, pickle, csv, copy, itertools, datetime\n",
    "import tqdm\n",
    "\n",
    "import numpy as np\n",
    "import matplotlib.pyplot as plt\n",
    "\n",
    "import ipywidgets as widgets\n",
    "from ipywidgets import interact, interactive, fixed, interact_manual\n",
    "\n",
    "import tensorflow as tf\n",
    "from tensorflow.keras.callbacks import EarlyStopping\n",
    "from tensorflow import keras\n",
    "from tensorflow.keras import layers\n",
    "\n",
    "from keras_tqdm import TQDMNotebookCallback\n",
    "import tensorflow_addons as tfa\n",
    "from kerastuner.tuners import RandomSearch\n",
    "\n",
    "from sklearn.utils import resample\n",
    "from sklearn.preprocessing import MinMaxScaler\n",
    "from sklearn.preprocessing import Normalizer\n",
    "from sklearn.model_selection import train_test_split\n",
    "from sklearn.metrics import confusion_matrix, classification_report\n",
    "from sklearn.utils import shuffle\n",
    "\n",
    "# %load_ext tensorboard"
   ]
  },
  {
   "cell_type": "code",
   "execution_count": 2,
   "metadata": {},
   "outputs": [],
   "source": [
    "# print(tf.__version__)\n",
    "# tf.test.is_gpu_available(\n",
    "#     cuda_only=False, min_cuda_compute_capability=None\n",
    "# )"
   ]
  },
  {
   "cell_type": "code",
   "execution_count": 3,
   "metadata": {},
   "outputs": [],
   "source": [
    "# %reload_ext tensorboard"
   ]
  },
  {
   "cell_type": "markdown",
   "metadata": {},
   "source": [
    "# CNN models"
   ]
  },
  {
   "cell_type": "code",
   "execution_count": 4,
   "metadata": {},
   "outputs": [],
   "source": [
    "file = open('trainTestIO', 'rb')\n",
    "X_train_IO, X_test_IO, y_train_IO, y_test_IO = pickle.load(file)\n",
    "file.close()\n",
    "\n",
    "file = open('trainTestVR', 'rb')\n",
    "X_train_VR, X_test_VR, y_train_VR, y_test_VR = pickle.load(file)\n",
    "file.close()\n",
    "\n",
    "file = open('trainTestVV', 'rb')\n",
    "X_train_VV, X_test_VV, y_train_VV, y_test_VV = pickle.load(file)\n",
    "file.close()"
   ]
  },
  {
   "cell_type": "code",
   "execution_count": 5,
   "metadata": {},
   "outputs": [],
   "source": [
    "X_train_IO = np.reshape(X_train_IO, (X_train_IO.shape[0], X_train_IO.shape[1], 1))\n",
    "X_test_IO = np.reshape(X_test_IO, (X_test_IO.shape[0], X_test_IO.shape[1], 1))\n",
    "\n",
    "X_train_VR = np.reshape(X_train_VR, (X_train_VR.shape[0], X_train_VR.shape[1], 1))\n",
    "X_test_VR = np.reshape(X_test_VR, (X_test_VR.shape[0], X_test_VR.shape[1], 1))\n",
    "\n",
    "X_train_VV = np.reshape(X_train_VV, (X_train_VV.shape[0], X_train_VV.shape[1], 1))\n",
    "X_test_VV = np.reshape(X_test_VV, (X_test_VV.shape[0], X_test_VV.shape[1], 1))"
   ]
  },
  {
   "cell_type": "code",
   "execution_count": 6,
   "metadata": {},
   "outputs": [
    {
     "data": {
      "text/plain": [
       "((3877, 250, 1), (3877,), (1911, 250, 1), (1911,))"
      ]
     },
     "execution_count": 6,
     "metadata": {},
     "output_type": "execute_result"
    }
   ],
   "source": [
    "X_train_IO.shape, y_train_IO.shape, X_test_IO.shape, y_test_IO.shape"
   ]
  },
  {
   "cell_type": "code",
   "execution_count": 9,
   "metadata": {},
   "outputs": [
    {
     "name": "stdout",
     "output_type": "stream",
     "text": [
      "Epoch 1/10\n",
      "8/8 [==============================] - 2s 200ms/step - loss: 0.7019 - accuracy: 0.4898 - val_loss: 0.6884 - val_accuracy: 0.4950\n",
      "Epoch 2/10\n",
      "8/8 [==============================] - 1s 129ms/step - loss: 0.6842 - accuracy: 0.5539 - val_loss: 0.6652 - val_accuracy: 0.9304\n",
      "Epoch 3/10\n",
      "8/8 [==============================] - 1s 130ms/step - loss: 0.6528 - accuracy: 0.7620 - val_loss: 0.6167 - val_accuracy: 0.6238\n",
      "Epoch 4/10\n",
      "8/8 [==============================] - 1s 122ms/step - loss: 0.5895 - accuracy: 0.7436 - val_loss: 0.5178 - val_accuracy: 0.8713\n",
      "Epoch 5/10\n",
      "8/8 [==============================] - 1s 120ms/step - loss: 0.4805 - accuracy: 0.8933 - val_loss: 0.4086 - val_accuracy: 0.8702\n",
      "Epoch 6/10\n",
      "8/8 [==============================] - 1s 135ms/step - loss: 0.3820 - accuracy: 0.8887 - val_loss: 0.3250 - val_accuracy: 0.9016\n",
      "Epoch 7/10\n",
      "8/8 [==============================] - 1s 141ms/step - loss: 0.3045 - accuracy: 0.9091 - val_loss: 0.2762 - val_accuracy: 0.9534\n",
      "Epoch 8/10\n",
      "8/8 [==============================] - 1s 140ms/step - loss: 0.2447 - accuracy: 0.9474 - val_loss: 0.2373 - val_accuracy: 0.9508\n",
      "Epoch 9/10\n",
      "8/8 [==============================] - 1s 134ms/step - loss: 0.2120 - accuracy: 0.9472 - val_loss: 0.2118 - val_accuracy: 0.9524\n",
      "Epoch 10/10\n",
      "8/8 [==============================] - 1s 126ms/step - loss: 0.1891 - accuracy: 0.9529 - val_loss: 0.1956 - val_accuracy: 0.9435\n"
     ]
    },
    {
     "data": {
      "text/plain": [
       "<tensorflow.python.keras.callbacks.History at 0x19ef87fafa0>"
      ]
     },
     "execution_count": 9,
     "metadata": {},
     "output_type": "execute_result"
    }
   ],
   "source": [
    "early_stopping = EarlyStopping(monitor='val_loss', patience=3)\n",
    "logdir = os.path.join(\"logs\", datetime.datetime.now().strftime(\"%Y%m%d-%H%M%S\"))\n",
    "tensorboard_callback = tf.keras.callbacks.TensorBoard(logdir, histogram_freq=1)\n",
    "\n",
    "model = keras.Sequential()\n",
    "model.add(layers.Conv1D(128, 50, strides=1, padding='valid', activation='relu', input_shape=(250,1)))\n",
    "model.add(layers.MaxPooling1D(pool_size=2))\n",
    "model.add(layers.Flatten())\n",
    "model.add(layers.Dense(50, activation='relu'))\n",
    "model.add(layers.Dense(1, activation='sigmoid'))\n",
    "model.compile(\n",
    "    loss='binary_crossentropy',\n",
    "    optimizer='adam',               \n",
    "    metrics=['accuracy'])\n",
    "model.fit(X_train_IO, y_train_IO, validation_data=(X_test_IO, y_test_IO), \n",
    "          epochs=10, batch_size=512, verbose=1, shuffle=True, \n",
    "          callbacks=[early_stopping, tensorboard_callback])"
   ]
  },
  {
   "cell_type": "code",
   "execution_count": 15,
   "metadata": {},
   "outputs": [],
   "source": [
    "def buid_model(hp):\n",
    "    model = keras.Sequential()\n",
    "    model.add(layers.Conv1D(hp.Int('conv_filters_1', min_value=2, max_value=200, step=64), hp.Int('conv_ksize_1', min_value=32, max_value=225, step=32), strides=1, padding='valid', activation='relu', input_shape=(250,1)))\n",
    "    model.add(layers.Flatten())\n",
    "    model.add(layers.Dense(hp.Int('dense_filters_1', min_value=2, max_value=200, step=2), activation='relu'))\n",
    "    model.add(layers.Dense(hp.Int('dense_filters_2', min_value=2, max_value=200, step=2), activation='relu'))\n",
    "    model.add(layers.Dense(1, activation='sigmoid'))\n",
    "    model.compile(\n",
    "        loss='binary_crossentropy',\n",
    "        optimizer='adam',               \n",
    "        metrics=['accuracy'])\n",
    "    return model"
   ]
  },
  {
   "cell_type": "markdown",
   "metadata": {},
   "source": [
    "# Tuner Search"
   ]
  },
  {
   "cell_type": "code",
   "execution_count": 16,
   "metadata": {},
   "outputs": [],
   "source": [
    "tuner = RandomSearch(buid_model, objective='val_accuracy', max_trials=500, executions_per_trial=5, directory='trial_1', project_name='name')"
   ]
  },
  {
   "cell_type": "code",
   "execution_count": 17,
   "metadata": {},
   "outputs": [
    {
     "name": "stdout",
     "output_type": "stream",
     "text": [
      "Trial 500 Complete [00h 00m 15s]\n",
      "val_accuracy: 0.884353756904602\n",
      "\n",
      "Best val_accuracy So Far: 0.9854526400566102\n",
      "Total elapsed time: 02h 39m 18s\n",
      "INFO:tensorflow:Oracle triggered exit\n"
     ]
    }
   ],
   "source": [
    "tuner.search(x=X_train_IO, y=y_train_IO,\n",
    "             epochs=25, batch_size=128,\n",
    "             validation_data=(X_test_IO, y_test_IO))"
   ]
  },
  {
   "cell_type": "code",
   "execution_count": 18,
   "metadata": {},
   "outputs": [
    {
     "name": "stdout",
     "output_type": "stream",
     "text": [
      "Results summary\n",
      "Results in trial_1\\name\n",
      "Showing 10 best trials\n",
      "Objective(name='val_accuracy', direction='max')\n",
      "Trial summary\n",
      "Hyperparameters:\n",
      "conv_filters_1: 130\n",
      "conv_ksize_1: 32\n",
      "dense_filters_1: 152\n",
      "dense_filters_2: 150\n",
      "Score: 0.9854526400566102\n",
      "Trial summary\n",
      "Hyperparameters:\n",
      "conv_filters_1: 66\n",
      "conv_ksize_1: 32\n",
      "dense_filters_1: 170\n",
      "dense_filters_2: 162\n",
      "Score: 0.9848247051239014\n",
      "Trial summary\n",
      "Hyperparameters:\n",
      "conv_filters_1: 130\n",
      "conv_ksize_1: 32\n",
      "dense_filters_1: 94\n",
      "dense_filters_2: 196\n",
      "Score: 0.9848246932029724\n",
      "Trial summary\n",
      "Hyperparameters:\n",
      "conv_filters_1: 66\n",
      "conv_ksize_1: 32\n",
      "dense_filters_1: 172\n",
      "dense_filters_2: 172\n",
      "Score: 0.9848246932029724\n",
      "Trial summary\n",
      "Hyperparameters:\n",
      "conv_filters_1: 130\n",
      "conv_ksize_1: 32\n",
      "dense_filters_1: 136\n",
      "dense_filters_2: 130\n",
      "Score: 0.9846153974533081\n",
      "Trial summary\n",
      "Hyperparameters:\n",
      "conv_filters_1: 194\n",
      "conv_ksize_1: 32\n",
      "dense_filters_1: 166\n",
      "dense_filters_2: 54\n",
      "Score: 0.9846153855323792\n",
      "Trial summary\n",
      "Hyperparameters:\n",
      "conv_filters_1: 2\n",
      "conv_ksize_1: 96\n",
      "dense_filters_1: 128\n",
      "dense_filters_2: 180\n",
      "Score: 0.9846153855323792\n",
      "Trial summary\n",
      "Hyperparameters:\n",
      "conv_filters_1: 130\n",
      "conv_ksize_1: 32\n",
      "dense_filters_1: 196\n",
      "dense_filters_2: 38\n",
      "Score: 0.9846153736114502\n",
      "Trial summary\n",
      "Hyperparameters:\n",
      "conv_filters_1: 66\n",
      "conv_ksize_1: 32\n",
      "dense_filters_1: 90\n",
      "dense_filters_2: 136\n",
      "Score: 0.9845107197761536\n",
      "Trial summary\n",
      "Hyperparameters:\n",
      "conv_filters_1: 66\n",
      "conv_ksize_1: 32\n",
      "dense_filters_1: 108\n",
      "dense_filters_2: 14\n",
      "Score: 0.9845107197761536\n"
     ]
    }
   ],
   "source": [
    "tuner.results_summary()"
   ]
  },
  {
   "cell_type": "code",
   "execution_count": null,
   "metadata": {},
   "outputs": [],
   "source": [
    "best_model = tuner.get_best_models(num_models=2)[0]"
   ]
  },
  {
   "cell_type": "code",
   "execution_count": 45,
   "metadata": {},
   "outputs": [
    {
     "name": "stdout",
     "output_type": "stream",
     "text": [
      "60/60 [==============================] - 0s 1ms/step - loss: 0.0606 - accuracy: 0.9869\n"
     ]
    },
    {
     "data": {
      "text/plain": [
       "[0.060593586415052414, 0.9869178533554077]"
      ]
     },
     "execution_count": 45,
     "metadata": {},
     "output_type": "execute_result"
    }
   ],
   "source": [
    "best_model.evaluate(X_test_IO, y_test_IO)"
   ]
  },
  {
   "cell_type": "code",
   "execution_count": 46,
   "metadata": {},
   "outputs": [
    {
     "name": "stdout",
     "output_type": "stream",
     "text": [
      "Model: \"sequential\"\n",
      "_________________________________________________________________\n",
      "Layer (type)                 Output Shape              Param #   \n",
      "=================================================================\n",
      "conv1d (Conv1D)              (None, 219, 130)          4290      \n",
      "_________________________________________________________________\n",
      "flatten (Flatten)            (None, 28470)             0         \n",
      "_________________________________________________________________\n",
      "dense (Dense)                (None, 152)               4327592   \n",
      "_________________________________________________________________\n",
      "dense_1 (Dense)              (None, 150)               22950     \n",
      "_________________________________________________________________\n",
      "dense_2 (Dense)              (None, 1)                 151       \n",
      "=================================================================\n",
      "Total params: 4,354,983\n",
      "Trainable params: 4,354,983\n",
      "Non-trainable params: 0\n",
      "_________________________________________________________________\n"
     ]
    }
   ],
   "source": [
    "best_model.summary()"
   ]
  },
  {
   "cell_type": "code",
   "execution_count": 47,
   "metadata": {},
   "outputs": [],
   "source": [
    "best_model.save('modelo_9869.h5')"
   ]
  },
  {
   "cell_type": "code",
   "execution_count": null,
   "metadata": {},
   "outputs": [],
   "source": [
    "best_model2 = tuner.get_best_models(num_models=3)[1]"
   ]
  },
  {
   "cell_type": "code",
   "execution_count": 49,
   "metadata": {},
   "outputs": [
    {
     "name": "stdout",
     "output_type": "stream",
     "text": [
      "Model: \"sequential\"\n",
      "_________________________________________________________________\n",
      "Layer (type)                 Output Shape              Param #   \n",
      "=================================================================\n",
      "conv1d (Conv1D)              (None, 219, 66)           2178      \n",
      "_________________________________________________________________\n",
      "flatten (Flatten)            (None, 14454)             0         \n",
      "_________________________________________________________________\n",
      "dense (Dense)                (None, 170)               2457350   \n",
      "_________________________________________________________________\n",
      "dense_1 (Dense)              (None, 162)               27702     \n",
      "_________________________________________________________________\n",
      "dense_2 (Dense)              (None, 1)                 163       \n",
      "=================================================================\n",
      "Total params: 2,487,393\n",
      "Trainable params: 2,487,393\n",
      "Non-trainable params: 0\n",
      "_________________________________________________________________\n"
     ]
    }
   ],
   "source": [
    "best_model2.summary()"
   ]
  },
  {
   "cell_type": "code",
   "execution_count": 41,
   "metadata": {},
   "outputs": [
    {
     "name": "stdout",
     "output_type": "stream",
     "text": [
      "60/60 [==============================] - 0s 1ms/step - loss: 0.0560 - accuracy: 0.9869\n"
     ]
    },
    {
     "data": {
      "text/plain": [
       "[0.05598752945661545, 0.9869178533554077]"
      ]
     },
     "execution_count": 41,
     "metadata": {},
     "output_type": "execute_result"
    }
   ],
   "source": [
    "best_model2.evaluate(X_test_IO, y_test_IO)"
   ]
  },
  {
   "cell_type": "code",
   "execution_count": 50,
   "metadata": {},
   "outputs": [],
   "source": [
    "best_model2.save('modelo_9869_2.h5')"
   ]
  },
  {
   "cell_type": "code",
   "execution_count": null,
   "metadata": {
    "collapsed": true,
    "jupyter": {
     "outputs_hidden": true
    }
   },
   "outputs": [],
   "source": [
    "best_model3 = tuner.get_best_models(num_models=3)[2]"
   ]
  },
  {
   "cell_type": "code",
   "execution_count": 52,
   "metadata": {},
   "outputs": [
    {
     "name": "stdout",
     "output_type": "stream",
     "text": [
      "60/60 [==============================] - 0s 2ms/step - loss: 0.0580 - accuracy: 0.9864\n"
     ]
    },
    {
     "data": {
      "text/plain": [
       "[0.058036405593156815, 0.9863945841789246]"
      ]
     },
     "execution_count": 52,
     "metadata": {},
     "output_type": "execute_result"
    }
   ],
   "source": [
    "best_model3.evaluate(X_test_IO, y_test_IO)"
   ]
  },
  {
   "cell_type": "code",
   "execution_count": 53,
   "metadata": {},
   "outputs": [
    {
     "name": "stdout",
     "output_type": "stream",
     "text": [
      "Model: \"sequential\"\n",
      "_________________________________________________________________\n",
      "Layer (type)                 Output Shape              Param #   \n",
      "=================================================================\n",
      "conv1d (Conv1D)              (None, 219, 66)           2178      \n",
      "_________________________________________________________________\n",
      "flatten (Flatten)            (None, 14454)             0         \n",
      "_________________________________________________________________\n",
      "dense (Dense)                (None, 170)               2457350   \n",
      "_________________________________________________________________\n",
      "dense_1 (Dense)              (None, 162)               27702     \n",
      "_________________________________________________________________\n",
      "dense_2 (Dense)              (None, 1)                 163       \n",
      "=================================================================\n",
      "Total params: 2,487,393\n",
      "Trainable params: 2,487,393\n",
      "Non-trainable params: 0\n",
      "_________________________________________________________________\n"
     ]
    }
   ],
   "source": [
    "best_model2.summary()"
   ]
  },
  {
   "cell_type": "code",
   "execution_count": 54,
   "metadata": {},
   "outputs": [],
   "source": [
    "best_model3.save('modelo_9864.h5')"
   ]
  },
  {
   "cell_type": "markdown",
   "metadata": {},
   "source": [
    "# Results analysis"
   ]
  },
  {
   "cell_type": "code",
   "execution_count": 29,
   "metadata": {},
   "outputs": [
    {
     "name": "stdout",
     "output_type": "stream",
     "text": [
      "WARNING:tensorflow:Error in loading the saved optimizer state. As a result, your model is starting with a freshly initialized optimizer.\n"
     ]
    }
   ],
   "source": [
    "model = tf.keras.models.load_model('modelo_9869.h5')"
   ]
  },
  {
   "cell_type": "code",
   "execution_count": 35,
   "metadata": {},
   "outputs": [
    {
     "name": "stdout",
     "output_type": "stream",
     "text": [
      "60/60 [==============================] - ETA: 1s - loss: 0.0136 - accuracy: 1.00 - ETA: 0s - loss: 0.0497 - accuracy: 0.98 - ETA: 0s - loss: 0.0477 - accuracy: 0.99 - ETA: 0s - loss: 0.0505 - accuracy: 0.98 - ETA: 0s - loss: 0.0487 - accuracy: 0.99 - ETA: 0s - loss: 0.0492 - accuracy: 0.98 - 0s 5ms/step - loss: 0.0493 - accuracy: 0.9895\n"
     ]
    },
    {
     "data": {
      "text/plain": [
       "[0.04929758980870247, 0.9895342588424683]"
      ]
     },
     "execution_count": 35,
     "metadata": {},
     "output_type": "execute_result"
    }
   ],
   "source": [
    "model.evaluate(X_test_IO, y_test_IO)"
   ]
  },
  {
   "cell_type": "code",
   "execution_count": 31,
   "metadata": {},
   "outputs": [],
   "source": [
    "y_pred = model.predict(X_test_IO)"
   ]
  },
  {
   "cell_type": "code",
   "execution_count": 32,
   "metadata": {},
   "outputs": [],
   "source": [
    "def plot_confusion_matrix(cm, classes,\n",
    "                        normalize=False,\n",
    "                        title='Confusion matrix',\n",
    "                        cmap=plt.cm.Blues):\n",
    "    \"\"\"\n",
    "    This function prints and plots the confusion matrix.\n",
    "    Normalization can be applied by setting `normalize=True`.\n",
    "    Parameters\n",
    "    ----------\n",
    "    cm : numpy ndarray with \n",
    "        matrix with the confusion matrix values returned from scipy\n",
    "    normalize : Boolen\n",
    "        wether cm is normalized or not\n",
    "    title: string\n",
    "        plot title text\n",
    "    cmap: string\n",
    "        matplotlib plt.cm cmap options\n",
    "        \n",
    "    Returns\n",
    "    -------\n",
    "        None\n",
    "    \"\"\"\n",
    "    plt.imshow(cm, interpolation='nearest', cmap=cmap)\n",
    "    plt.title(title)\n",
    "    plt.colorbar()\n",
    "    tick_marks = np.arange(len(classes))\n",
    "    plt.xticks(tick_marks, classes, rotation=45)\n",
    "    plt.yticks(tick_marks, classes)\n",
    "\n",
    "    if normalize:\n",
    "        cm = cm.astype('float') / cm.sum(axis=1)[:, np.newaxis]\n",
    "        print(\"Normalized confusion matrix\")\n",
    "    else:\n",
    "        print('Confusion matrix, without normalization')\n",
    "\n",
    "    print(cm)\n",
    "\n",
    "    thresh = cm.max() / 2.\n",
    "    for i, j in itertools.product(range(cm.shape[0]), range(cm.shape[1])):\n",
    "        plt.text(j, i, cm[i, j],\n",
    "            horizontalalignment=\"center\",\n",
    "            color=\"white\" if cm[i, j] > thresh else \"black\")\n",
    "\n",
    "    plt.tight_layout()\n",
    "    plt.ylabel('True label')\n",
    "    plt.xlabel('Predicted label')"
   ]
  },
  {
   "cell_type": "code",
   "execution_count": 26,
   "metadata": {},
   "outputs": [
    {
     "name": "stdout",
     "output_type": "stream",
     "text": [
      "Confusion matrix, without normalization\n",
      "[[953  13]\n",
      " [  8 937]]\n",
      "regular \t 0.9865424430641822 %\n",
      "blink \t 0.9915343915343915 %\n"
     ]
    },
    {
     "data": {
      "image/png": "[encoded data removed]",
      "text/plain": [
       "<Figure size 432x288 with 2 Axes>"
      ]
     },
     "metadata": {
      "needs_background": "light"
     },
     "output_type": "display_data"
    }
   ],
   "source": [
    "labels_resultado = ['regular', 'blink']\n",
    "cm = confusion_matrix(y_test_IO, y_pred.round())\n",
    "plot_confusion_matrix(cm, labels_resultado)\n",
    "for i in range(2):\n",
    "    print(f'{labels_resultado[i]} \\t {cm[i,i]/cm[i,:].sum()} %')"
   ]
  },
  {
   "cell_type": "code",
   "execution_count": 27,
   "metadata": {},
   "outputs": [],
   "source": [
    "Tp = cm[1,1]\n",
    "Tn = cm[0,0]\n",
    "Fp = cm[0,1]\n",
    "Fn = cm[1,0]\n",
    "prec = (Tp)/(Tp + Fp)\n",
    "rec = (Tp)/(Tp + Fn)"
   ]
  },
  {
   "cell_type": "code",
   "execution_count": 28,
   "metadata": {},
   "outputs": [
    {
     "name": "stdout",
     "output_type": "stream",
     "text": [
      "Accuracy  =  98.9010989010989%\n",
      "Precision =  98.63157894736842 %\n",
      "Recal     =  99.15343915343915 %\n",
      "F1 Rate   =  98.89182058047494\n"
     ]
    }
   ],
   "source": [
    "print(f'Accuracy  =  {100*(Tp + Tn)/(Tp+Tn+Fp+Fn)}%')\n",
    "print(f'Precision =  {100*(Tp)/(Tp + Fp)} %')\n",
    "print(f'Recal     =  {100*(Tp)/(Tp + Fn)} %')\n",
    "print(f'F1 Rate   =  {100*2*(prec*rec)/(prec + rec)}')"
   ]
  },
  {
   "cell_type": "code",
   "execution_count": 29,
   "metadata": {},
   "outputs": [
    {
     "name": "stdout",
     "output_type": "stream",
     "text": [
      "              precision    recall  f1-score   support\n",
      "\n",
      "         0.0     0.9917    0.9865    0.9891       966\n",
      "         1.0     0.9863    0.9915    0.9889       945\n",
      "\n",
      "    accuracy                         0.9890      1911\n",
      "   macro avg     0.9890    0.9890    0.9890      1911\n",
      "weighted avg     0.9890    0.9890    0.9890      1911\n",
      "\n"
     ]
    }
   ],
   "source": [
    "report = classification_report(y_test_IO, y_pred.round(), digits=4)\n",
    "print(report)"
   ]
  },
  {
   "cell_type": "code",
   "execution_count": null,
   "metadata": {},
   "outputs": [],
   "source": []
  },
  {
   "cell_type": "code",
   "execution_count": null,
   "metadata": {},
   "outputs": [],
   "source": []
  },
  {
   "cell_type": "code",
   "execution_count": null,
   "metadata": {},
   "outputs": [],
   "source": []
  }
 ],
 "metadata": {
  "kernelspec": {
   "display_name": "Python 3",
   "language": "python",
   "name": "python3"
  },
  "language_info": {
   "codemirror_mode": {
    "name": "ipython",
    "version": 3
   },
   "file_extension": ".py",
   "mimetype": "text/x-python",
   "name": "python",
   "nbconvert_exporter": "python",
   "pygments_lexer": "ipython3",
   "version": "3.8.5"
  }
 },
 "nbformat": 4,
 "nbformat_minor": 4
}
